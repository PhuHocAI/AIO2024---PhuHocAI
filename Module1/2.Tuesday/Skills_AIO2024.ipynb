{
  "cells": [
    {
      "cell_type": "code",
      "execution_count": 3,
      "metadata": {
        "id": "vcYwvGNQGEdg"
      },
      "outputs": [],
      "source": [
        "#y = ax2 + bx + c"
      ]
    },
    {
      "cell_type": "code",
      "execution_count": 2,
      "metadata": {
        "colab": {
          "base_uri": "https://localhost:8080/"
        },
        "id": "wX13i9yZJYmf",
        "outputId": "46d9a56d-ad35-4039-a85f-45a5517ca1c4"
      },
      "outputs": [
        {
          "name": "stdout",
          "output_type": "stream",
          "text": [
            "a =  2 b =  3 c =  5\n"
          ]
        }
      ],
      "source": [
        "# get input from the user\n",
        "a = int(input(\"Enter a: \"))\n",
        "b = int(input(\"Enter b: \"))\n",
        "c = int(input(\"Enter c: \"))\n",
        "print(\"a = \", a, \"b = \", b, \"c = \", c)"
      ]
    },
    {
      "cell_type": "code",
      "execution_count": 3,
      "metadata": {
        "colab": {
          "base_uri": "https://localhost:8080/"
        },
        "id": "P2jIskP6KKcq",
        "outputId": "34ea9ad5-0c76-461a-ff23-e877f2856120"
      },
      "outputs": [
        {
          "name": "stdout",
          "output_type": "stream",
          "text": [
            "Delta =  -31\n"
          ]
        }
      ],
      "source": [
        "# Calculate Delta\n",
        "delta = b**2 - 4*a*c\n",
        "print(\"Delta = \", delta )\n"
      ]
    },
    {
      "cell_type": "code",
      "execution_count": 4,
      "metadata": {
        "colab": {
          "base_uri": "https://localhost:8080/"
        },
        "id": "ap-CzQPsOL0-",
        "outputId": "b4171a32-e4af-41dd-e823-57640bf34ce9"
      },
      "outputs": [
        {
          "name": "stdout",
          "output_type": "stream",
          "text": [
            "The roots are imaginary.\n"
          ]
        }
      ],
      "source": [
        "import math\n",
        "# Compare Delta with Zero\n",
        "if delta > 0:\n",
        "    x1 = (-b + math.sqrt(delta))/(2*a)\n",
        "    x2 = (-b - math.sqrt(delta))/(2*a)\n",
        "    print(\"The roots are real and different\", \"(x1 = \", x1,  \" x2 = \", x2 , \")\")\n",
        "elif delta == 0:\n",
        "    x1 = -b/(2*a)\n",
        "    x2 = -b/(2*a)\n",
        "    print(\"The roots are real and same. x1 = x2 = \", x1)\n",
        "else:\n",
        "    print(\"The roots are imaginary.\")\n"
      ]
    },
    {
      "cell_type": "code",
      "execution_count": 5,
      "metadata": {
        "id": "01g-RZTeSZMF"
      },
      "outputs": [],
      "source": [
        "#define ReLu function\n",
        "def ReLu(x):\n",
        "    if x > 0:\n",
        "        return x\n",
        "    else:\n",
        "        return 0"
      ]
    },
    {
      "cell_type": "code",
      "execution_count": 6,
      "metadata": {
        "colab": {
          "base_uri": "https://localhost:8080/"
        },
        "id": "MArQZJnvSqYc",
        "outputId": "3d89651b-79dd-4d0d-ed55-018f9607f703"
      },
      "outputs": [
        {
          "name": "stdout",
          "output_type": "stream",
          "text": [
            "2\n",
            "0\n"
          ]
        }
      ],
      "source": [
        "print(ReLu(x=2))\n",
        "print(ReLu(x=-2))"
      ]
    },
    {
      "cell_type": "code",
      "execution_count": 7,
      "metadata": {
        "id": "ZyaaNXcJUJhh"
      },
      "outputs": [],
      "source": [
        "# Compare Delta with Zero\n",
        "def solve_quadratic(a, b, c):\n",
        "  delta = b**2 - 4*a*c\n",
        "  if delta > 0:\n",
        "    x1 = (-b + math.sqrt(delta))/(2*a)\n",
        "    x2 = (-b - math.sqrt(delta))/(2*a)\n",
        "    print(\"The roots are real and different\", \"(x1 = \", x1,  \" x2 = \", x2 , \")\")\n",
        "  elif delta == 0:\n",
        "    x1 = -b/(2*a)\n",
        "    x2 = -b/(2*a)\n",
        "    print(\"The roots are real and same. x1 = x2 = \", x1)\n",
        "  else:\n",
        "    print(\"The roots are imaginary.\")\n"
      ]
    },
    {
      "cell_type": "code",
      "execution_count": 8,
      "metadata": {
        "colab": {
          "base_uri": "https://localhost:8080/"
        },
        "id": "rWuMsx9GUYjm",
        "outputId": "8599a290-c37e-476b-92ed-57d93af3b50e"
      },
      "outputs": [
        {
          "name": "stdout",
          "output_type": "stream",
          "text": [
            "The roots are real and different (x1 =  1.0  x2 =  -4.0 )\n"
          ]
        }
      ],
      "source": [
        "solve_quadratic(a=1, b=3, c = -4)"
      ]
    },
    {
      "cell_type": "code",
      "execution_count": null,
      "metadata": {},
      "outputs": [],
      "source": []
    }
  ],
  "metadata": {
    "colab": {
      "provenance": []
    },
    "kernelspec": {
      "display_name": "Python 3",
      "name": "python3"
    },
    "language_info": {
      "codemirror_mode": {
        "name": "ipython",
        "version": 3
      },
      "file_extension": ".py",
      "mimetype": "text/x-python",
      "name": "python",
      "nbconvert_exporter": "python",
      "pygments_lexer": "ipython3",
      "version": "3.11.7"
    }
  },
  "nbformat": 4,
  "nbformat_minor": 0
}
