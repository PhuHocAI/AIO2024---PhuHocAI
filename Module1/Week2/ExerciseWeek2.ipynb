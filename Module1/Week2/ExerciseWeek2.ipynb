{
 "cells": [
  {
   "cell_type": "code",
   "execution_count": null,
   "metadata": {},
   "outputs": [],
   "source": [
    "import numpy as np"
   ]
  },
  {
   "cell_type": "code",
   "execution_count": null,
   "metadata": {},
   "outputs": [],
   "source": [
    "# Bài 1: \n",
    "num_list = [3, 4, 5, 1, -44 , 5 ,10, 12 ,33, 1]\n",
    "# size_list = int(input(\"Nhap size list: \"))\n",
    "# for i in range(0, size_list, 1):\n",
    "#     num_list.append(int(input()))\n",
    "# print(num_list)\n",
    "size_list=len(num_list)\n",
    "\n",
    "# k = int(input(\"Nhap k di: \"))\n",
    "k=3\n",
    "sub_list = []\n",
    "\n",
    "for i in range(0, size_list - k + 1):\n",
    "    max = num_list[i]\n",
    "    for j in range(i, i+k):\n",
    "        if max < num_list[j]:\n",
    "            max = num_list[j]\n",
    "    sub_list.append(max)\n",
    "\n",
    "for i in range(len(num_list)-k+1):\n",
    "    sub_list.append(np.max(num_list[i:i+k]))\n",
    "\n",
    "# sub_list = [np.max(num_list[i:i+k]) for i in range(len(num_list)-k+1)]\n",
    "\n",
    "\n",
    "print(sub_list)"
   ]
  },
  {
   "cell_type": "code",
   "execution_count": 52,
   "metadata": {},
   "outputs": [
    {
     "ename": "AttributeError",
     "evalue": "'str' object has no attribute 'append'",
     "output_type": "error",
     "traceback": [
      "\u001b[1;31m---------------------------------------------------------------------------\u001b[0m",
      "\u001b[1;31mAttributeError\u001b[0m                            Traceback (most recent call last)",
      "Cell \u001b[1;32mIn[52], line 3\u001b[0m\n\u001b[0;32m      1\u001b[0m b \u001b[38;5;241m=\u001b[39m []\n\u001b[0;32m      2\u001b[0m a \u001b[38;5;241m=\u001b[39m \u001b[38;5;124m\"\u001b[39m\u001b[38;5;124mahihi\u001b[39m\u001b[38;5;124m\"\u001b[39m\n\u001b[1;32m----> 3\u001b[0m b \u001b[38;5;241m=\u001b[39m \u001b[43ma\u001b[49m\u001b[38;5;241;43m.\u001b[39;49m\u001b[43mappend\u001b[49m(split(\u001b[38;5;124m\"\u001b[39m\u001b[38;5;124m\"\u001b[39m))\n",
      "\u001b[1;31mAttributeError\u001b[0m: 'str' object has no attribute 'append'"
     ]
    }
   ],
   "source": [
    "b = []\n",
    "a = \"ahihi\"\n",
    "b = a.append(split(\"\"))"
   ]
  },
  {
   "cell_type": "code",
   "execution_count": 1,
   "metadata": {},
   "outputs": [
    {
     "name": "stdout",
     "output_type": "stream",
     "text": [
      "{'P': 1, 'y': 1, 't': 1, 'h': 1, 'o': 1, 'n': 5, ' ': 2, 'i': 1, 's': 1, 'f': 1, 'u': 1}\n",
      "{'H': 1, 'a': 2, 'h': 5, 'i': 2, 'o': 2}\n",
      "{'S': 1, 'm': 1, 'i': 1, 'l': 1, 'e': 1, 's': 1}\n"
     ]
    }
   ],
   "source": [
    "import pandas as pd\n",
    "\n",
    "\n",
    "def count_char(string):\n",
    "    char_dict = {}\n",
    "    for ch in string:\n",
    "        if ch in char_dict:\n",
    "            char_dict[ch] += 1\n",
    "        else:\n",
    "            char_dict[ch] = 1\n",
    "    return char_dict\n",
    "\n",
    "\n",
    "if __name__ == \"__main__\":\n",
    "    string = \"Python is funnnn\"\n",
    "    print(count_char(string))\n",
    "    string = \"Hahahihihoho\"\n",
    "    print(count_char(string))\n",
    "    string = \"Smiles\"\n",
    "    print(count_char(string))\n"
   ]
  },
  {
   "cell_type": "code",
   "execution_count": 2,
   "metadata": {},
   "outputs": [
    {
     "name": "stdout",
     "output_type": "stream",
     "text": [
      "3\n",
      "1\n"
     ]
    }
   ],
   "source": [
    "def levenshtein(string, target):\n",
    "    if len(target) == 0:\n",
    "        return len(string)\n",
    "\n",
    "    if len(string) == 0:\n",
    "        return len(target)\n",
    "    \n",
    "    if string[0] == target[0]:\n",
    "        cost = 0\n",
    "    else:\n",
    "        cost = 1\n",
    "    return min(\n",
    "        levenshtein(string[1:], target) + 1,\n",
    "        levenshtein(string, target[1:]) + 1,\n",
    "        levenshtein(string[1:], target[1:]) + cost\n",
    "    )\n",
    "\n",
    "\n",
    "print(levenshtein(\"kitten\", \"sitting\"))\n",
    "print(levenshtein('yu', ''))"
   ]
  },
  {
   "cell_type": "code",
   "execution_count": null,
   "metadata": {},
   "outputs": [],
   "source": [
    "def count_word(url):\n",
    "    result = dict()\n",
    "    with open(url, 'r') as file:\n",
    "        data = file.read()\n",
    "        for word in data.split():\n",
    "            if word in result:\n",
    "                result[word] += 1\n",
    "            else:\n",
    "                result[word] = 1\n",
    "    return result"
   ]
  }
 ],
 "metadata": {
  "kernelspec": {
   "display_name": "base",
   "language": "python",
   "name": "python3"
  },
  "language_info": {
   "codemirror_mode": {
    "name": "ipython",
    "version": 3
   },
   "file_extension": ".py",
   "mimetype": "text/x-python",
   "name": "python",
   "nbconvert_exporter": "python",
   "pygments_lexer": "ipython3",
   "version": "3.11.7"
  }
 },
 "nbformat": 4,
 "nbformat_minor": 2
}
